{
 "cells": [
  {
   "cell_type": "markdown",
   "metadata": {},
   "source": [
    "## Gerando texto com Groq e LangChain"
   ]
  },
  {
   "cell_type": "code",
   "execution_count": 1,
   "metadata": {},
   "outputs": [
    {
     "data": {
      "text/plain": [
       "True"
      ]
     },
     "execution_count": 1,
     "metadata": {},
     "output_type": "execute_result"
    }
   ],
   "source": [
    "from dotenv import load_dotenv, find_dotenv\n",
    "\n",
    "load_dotenv(find_dotenv())"
   ]
  },
  {
   "cell_type": "code",
   "execution_count": 3,
   "metadata": {},
   "outputs": [
    {
     "name": "stdout",
     "output_type": "stream",
     "text": [
      "Olá! Como você está?\n"
     ]
    }
   ],
   "source": [
    "from langchain_groq import ChatGroq\n",
    "\n",
    "chat = ChatGroq(\n",
    "    temperature=0,\n",
    "    model='llama3-8b-8192'\n",
    ")\n",
    "\n",
    "resposta = chat.invoke('Olá!')\n",
    "print(resposta.content)"
   ]
  },
  {
   "cell_type": "code",
   "execution_count": 4,
   "metadata": {},
   "outputs": [
    {
     "name": "stdout",
     "output_type": "stream",
     "text": [
      "A árvore! É como a vida em si. Ela começa pequena e frágil, mas com o tempo, cresce e se fortalece, até chegar ao seu destino. É como um sonho que se torna realidade. Tem raízes profundas que a sustentam e uma coroa que se estende para o céu, representando a conexão entre o passado e o futuro. É um símbolo de força, resistência e perseverança. E, ao mesmo tempo, é uma obra de arte, com suas folhas e flores que se abrem para o sol, como a beleza e a criatividade que brotam da alma humana.\n"
     ]
    }
   ],
   "source": [
    "from langchain_core.prompts import ChatPromptTemplate\n",
    "\n",
    "template = ChatPromptTemplate.from_messages([\n",
    "    ('system', 'Você é um assistente que sempre fala no sentido figurado'),\n",
    "    ('human', '{input}')\n",
    "])\n",
    "chain = template | chat\n",
    "\n",
    "resposta = chain.invoke({'input': 'O que é uma árvore?'})\n",
    "print(resposta.content)\n"
   ]
  },
  {
   "cell_type": "markdown",
   "metadata": {},
   "source": [
    "### Gerando uma stream"
   ]
  },
  {
   "cell_type": "code",
   "execution_count": 5,
   "metadata": {},
   "outputs": [
    {
     "name": "stdout",
     "output_type": "stream",
     "text": [
      "A vida é um grande romance, cheio de twists e voltas inesperadas. É um livro que você está escrevendo ao vivo, com capítulos que se revezam entre alegria e tristeza, esperança e desânimo. É um caminho sinuoso que você está percorrendo, com obstáculos e desafios à frente, mas também com oportunidades e surpresas.\n",
      "\n",
      "A vida é um jardim que você está cultivando, com flores que se abrem e se fecham, e também com ervas daninhas que precisam ser arrancadas. É um rio que você está navegando, com correntes e mares que você precisa superar.\n",
      "\n",
      "A vida é um quebra-cabeça que você está montando, com pedaços que se encaixam e outros que não. É um puzzle que você está resolvendo, com peças que se ajustam e outras que precisam ser substituídas.\n",
      "\n",
      "E, no entanto, a vida é também um presente precioso que você está recebendo, com cada dia uma oportunidade para começar novamente, para aprender, para crescer e para se transformar."
     ]
    }
   ],
   "source": [
    "stream = chain.stream({'input': 'O que é a vida?'})\n",
    "for chunck in stream:\n",
    "    print(chunck.content, end='', flush=True)"
   ]
  },
  {
   "cell_type": "code",
   "execution_count": 8,
   "metadata": {},
   "outputs": [],
   "source": [
    "from typing import Optional\n",
    "from langchain_core.tools import tool\n",
    "\n",
    "@tool\n",
    "def temperatura_atual(localidade: str, unidade: Optional[str]):\n",
    "    \"\"\"Retorna a temperatura atual de uma determinada localidade\"\"\"\n",
    "    return '25ºC'\n",
    "\n",
    "chat_tool = chat.bind_tools([temperatura_atual], tool_choice='auto')\n",
    "resposta = chat_tool.invoke('Qual é a temperatura hoje em Porto Alegre')"
   ]
  },
  {
   "cell_type": "code",
   "execution_count": 10,
   "metadata": {},
   "outputs": [
    {
     "data": {
      "text/plain": [
       "[{'name': 'temperatura_atual',\n",
       "  'args': {'localidade': 'Porto Alegre', 'unidade': 'Celsius'},\n",
       "  'id': 'call_271y'}]"
      ]
     },
     "execution_count": 10,
     "metadata": {},
     "output_type": "execute_result"
    }
   ],
   "source": [
    "resposta.tool_calls"
   ]
  },
  {
   "cell_type": "code",
   "execution_count": null,
   "metadata": {},
   "outputs": [],
   "source": []
  }
 ],
 "metadata": {
  "kernelspec": {
   "display_name": ".venv",
   "language": "python",
   "name": "python3"
  },
  "language_info": {
   "codemirror_mode": {
    "name": "ipython",
    "version": 3
   },
   "file_extension": ".py",
   "mimetype": "text/x-python",
   "name": "python",
   "nbconvert_exporter": "python",
   "pygments_lexer": "ipython3",
   "version": "3.11.4"
  }
 },
 "nbformat": 4,
 "nbformat_minor": 2
}
