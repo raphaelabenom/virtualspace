{
 "cells": [
  {
   "cell_type": "markdown",
   "metadata": {},
   "source": [
    "## Gerando texto com Groq"
   ]
  },
  {
   "cell_type": "code",
   "execution_count": 1,
   "metadata": {},
   "outputs": [
    {
     "data": {
      "text/plain": [
       "True"
      ]
     },
     "execution_count": 1,
     "metadata": {},
     "output_type": "execute_result"
    }
   ],
   "source": [
    "from dotenv import load_dotenv, find_dotenv\n",
    "\n",
    "load_dotenv(find_dotenv())"
   ]
  },
  {
   "cell_type": "code",
   "execution_count": 3,
   "metadata": {},
   "outputs": [],
   "source": [
    "from groq import Groq\n",
    "client = Groq()"
   ]
  },
  {
   "cell_type": "code",
   "execution_count": 5,
   "metadata": {},
   "outputs": [
    {
     "data": {
      "text/plain": [
       "ChatCompletion(id='chatcmpl-89402aa8-7d23-4236-94a5-aec21195ffc1', choices=[Choice(finish_reason='stop', index=0, logprobs=None, message=ChatCompletionMessage(content='Os modelos de linguagem rápidos têm sido uma área de grande interesse nos últimos anos, especialmente com o desenvolvimento da inteligência artificial e do processamento de linguagem natural (NLP). Aqui estão algumas razões pelas quais os modelos de linguagem rápidos são importantes:\\n\\n1. **Velocidade de cálculo**: Os modelos de linguagem rápidos são capazes de processar grandes quantidades de dados em tempos relativamente curtos, o que é fundamental para aplicações que requerem análise de grande escala, como linguagem processada em tempo real.\\n2. **Geração de texto**: Os modelos de linguagem rápidos podem ser treinados para gerar texto de forma rápida e eficiente, o que é útil para aplicações como chatbots, geradores de conteúdo e sistemas de recomendation.\\n3. **Entendimento de linguagem**: Os modelos de linguagem rápidos podem ser usado para entender melhor a linguagem natural, identificando padrões e relações entre palavras e frases, o que é fundamental para as aplicações de NLP.\\n4. **Inteligência artificial**: Os modelos de linguagem rápidos são essenciais para o desenvolvimento de sistemas de inteligência artificial que podem compreender e se comunicar com humanos de forma eficaz.\\n5. **Desenvolvimento de aplicações**: Os modelos de linguagem rápidos permitem o desenvolvimento de aplicações mais sofisticadas, como tradutores, assistentes virtuais e sistemas de reconhecimento de fala.\\n6. **Melhoria da experiência do usuário**: Os modelos de linguagem rápidos podem ser usados para melhorar a experiência do usuário em aplicações que envolvem linguagem, como chatbots, aplicativos de mensagens e sistemas de busca.\\n7. **Análise de dados**: Os modelos de linguagem rápidos podem ser usados para a análise de grandes volumes de dados, como tweets, posts de redes sociais e outros tipos de conteúdo, o que é fundamental para as análises de mercado, opinião pública e outros estudos de caso.\\n8. **Impacto na indústria**: Os modelos de linguagem rápidos estão mudando a forma como as empresas trabalham com linguagem e dados, tornando-as mais eficientes e competitivas.\\n9. **Desenvolvimento de novas aplicações**: Os modelos de linguagem rápidos permitem o desenvolvimento de novas aplicações e serviços, como linguagem processada em tempo real, geradores de conteúdo automático e sistemas de recomendação de texto.\\n10. **Melhoria da eficiência**: Os modelos de linguagem rápidos podem reduzir significativamente o tempo de processamento e melhorar a eficiência nas aplicações que envolvem linguagem.\\n\\nEm resumo, os modelos de linguagem rápidos são essenciais para o desenvolvimento de aplicações que envolvem linguagem e dados, e podem ter um impacto significativo na indústria e na vida dos usuários.', role='assistant', function_call=None, tool_calls=None))], created=1720722717, model='llama3-8b-8192', object='chat.completion', system_fingerprint='fp_6a6771ae9c', usage=CompletionUsage(completion_tokens=673, prompt_tokens=23, total_tokens=696, completion_time=0.56006315, prompt_time=0.004155255, queue_time=None, total_time=0.564218405), x_groq={'id': 'req_01j2hh1y7xe6bs765a8pn9rbh5'})"
      ]
     },
     "execution_count": 5,
     "metadata": {},
     "output_type": "execute_result"
    }
   ],
   "source": [
    "mensagens = [\n",
    "    {\n",
    "        'role': 'user', \n",
    "        'content': 'Explique a importância de modelos de linguagem rápidos'\n",
    "     }]\n",
    "\n",
    "resposta = client.chat.completions.create(\n",
    "    messages=mensagens,\n",
    "    model='llama3-8b-8192'\n",
    ")\n",
    "resposta"
   ]
  },
  {
   "cell_type": "code",
   "execution_count": 6,
   "metadata": {},
   "outputs": [
    {
     "name": "stdout",
     "output_type": "stream",
     "text": [
      "Os modelos de linguagem rápidos têm sido uma área de grande interesse nos últimos anos, especialmente com o desenvolvimento da inteligência artificial e do processamento de linguagem natural (NLP). Aqui estão algumas razões pelas quais os modelos de linguagem rápidos são importantes:\n",
      "\n",
      "1. **Velocidade de cálculo**: Os modelos de linguagem rápidos são capazes de processar grandes quantidades de dados em tempos relativamente curtos, o que é fundamental para aplicações que requerem análise de grande escala, como linguagem processada em tempo real.\n",
      "2. **Geração de texto**: Os modelos de linguagem rápidos podem ser treinados para gerar texto de forma rápida e eficiente, o que é útil para aplicações como chatbots, geradores de conteúdo e sistemas de recomendation.\n",
      "3. **Entendimento de linguagem**: Os modelos de linguagem rápidos podem ser usado para entender melhor a linguagem natural, identificando padrões e relações entre palavras e frases, o que é fundamental para as aplicações de NLP.\n",
      "4. **Inteligência artificial**: Os modelos de linguagem rápidos são essenciais para o desenvolvimento de sistemas de inteligência artificial que podem compreender e se comunicar com humanos de forma eficaz.\n",
      "5. **Desenvolvimento de aplicações**: Os modelos de linguagem rápidos permitem o desenvolvimento de aplicações mais sofisticadas, como tradutores, assistentes virtuais e sistemas de reconhecimento de fala.\n",
      "6. **Melhoria da experiência do usuário**: Os modelos de linguagem rápidos podem ser usados para melhorar a experiência do usuário em aplicações que envolvem linguagem, como chatbots, aplicativos de mensagens e sistemas de busca.\n",
      "7. **Análise de dados**: Os modelos de linguagem rápidos podem ser usados para a análise de grandes volumes de dados, como tweets, posts de redes sociais e outros tipos de conteúdo, o que é fundamental para as análises de mercado, opinião pública e outros estudos de caso.\n",
      "8. **Impacto na indústria**: Os modelos de linguagem rápidos estão mudando a forma como as empresas trabalham com linguagem e dados, tornando-as mais eficientes e competitivas.\n",
      "9. **Desenvolvimento de novas aplicações**: Os modelos de linguagem rápidos permitem o desenvolvimento de novas aplicações e serviços, como linguagem processada em tempo real, geradores de conteúdo automático e sistemas de recomendação de texto.\n",
      "10. **Melhoria da eficiência**: Os modelos de linguagem rápidos podem reduzir significativamente o tempo de processamento e melhorar a eficiência nas aplicações que envolvem linguagem.\n",
      "\n",
      "Em resumo, os modelos de linguagem rápidos são essenciais para o desenvolvimento de aplicações que envolvem linguagem e dados, e podem ter um impacto significativo na indústria e na vida dos usuários.\n"
     ]
    }
   ],
   "source": [
    "print(resposta.choices[0].message.content)"
   ]
  },
  {
   "cell_type": "markdown",
   "metadata": {},
   "source": [
    "### Gerando uma stream"
   ]
  },
  {
   "cell_type": "code",
   "execution_count": 7,
   "metadata": {},
   "outputs": [
    {
     "name": "stdout",
     "output_type": "stream",
     "text": [
      "Os modelos de linguagem rápidos (ou modelos de linguagem eficientes) são uma classe de modelos de linguagem que são projetados para processar e analisar grandes quantidades de texto em tempo relativo curto, tornando-os essenciais para aplicações que envolvam processamento de linguagem natural em tempo real, como:\n",
      "\n",
      "1. **Chatbots**: Como os chatbots precisam responder rapidamente às perguntas e instruções dos usuários, os modelos de linguagem rápidos são essenciais para permitir que os chatbots processem e respondam às mensagens em tempo real.\n",
      "2. **Recomendação de conteúdo**: Em aplicações de recomendação de conteúdo, como sistemas de recomendação de vídeo ou música, os modelos de linguagem rápidos são usados para processar grandes quantidades de texto para fornecer recomendações personalizadas aos usuários.\n",
      "3. **Análise de sentimentos**: Os modelos de linguagem rápidos também são utilizados para análise de sentimentos em tempo real, permitindo que as empresas monitorem a opinião dos consumidores sobre seus produtos ou serviços em tempo real.\n",
      "4. **Tradução em tempo real**: Com o aumento da globalização, a tradução em tempo real é cada vez mais importante para empresas que desejam comunicar-se com clientes em diferentes partes do mundo. Os modelos de linguagem rápidos são essenciais para processar e traduzir texto em tempo real.\n",
      "\n",
      "A importância dos modelos de linguagem rápidos está em sua capacidade de processar grandes quantidades de texto em tempo relativo curto, sem comprometer a precisão e a qualidade do processamento. Isso é alcançado por meio de técnicas de otimização e paralelização, como:\n",
      "\n",
      "1. **Paralelização**: Os modelos de linguagem rápidos são projetados para processar texto em paralelo, utilizando vários processadores ou computadores para processar diferentes partes do texto ao mesmo tempo.\n",
      "2. **Otimização de recursos**: Os modelos de linguagem rápidos são projetados para minimizar a utilização de recursos, como memória e CPU, sem comprometer a precisão e a qualidade do processamento.\n",
      "3. **Aprendizado automático**: Os modelos de linguagem rápidos utilizam técnicas de aprendizado automático para aprender a processar texto rapidamente, sem a necessidade de ajustes manuais.\n",
      "\n",
      "Geralmente, os modelos de linguagem rápidos possuem as seguintes características:\n",
      "\n",
      "1. **Taxa de processamento alta**: Os modelos de linguagem rápidos são projetados para processar texto em tempo real, geralmente com taxas de processamento acima de 100 tokens por segundo (token é a menor unidade de texto, como uma palavra ou um caractere).\n",
      "2. **Precisão e qualidade**: Embora o processamento seja rapidamente, os modelos de linguagem rápidos são projetados para manter a precisão e a qualidade do processamento, garantindo que a análise de linguagem natural seja precisa e confiável.\n",
      "3. **Flexibilidade**: Os modelos de linguagem rápidos podem ser facilmente adaptados para diferentes linguagens e linguagens naturais, permitindo sua aplicação em diferentes contextos.\n",
      "\n",
      "Em resumo, os modelos de linguagem rápidos são essenciais para aplicações que envolvam processamento de linguagem natural em tempo real, como chatbots, recomendação de conteúdo e análise de sentimentos. Eles são projetados para processar grandes quantidades de texto em tempo relativo curto, sem comprometer a precisão e a qualidade do processamento.None"
     ]
    }
   ],
   "source": [
    "mensagens = [\n",
    "    {\n",
    "        'role': 'user', \n",
    "        'content': 'Explique a importância de modelos de linguagem rápidos'\n",
    "     }]\n",
    "\n",
    "stream = client.chat.completions.create(\n",
    "    messages=mensagens,\n",
    "    model='llama3-8b-8192',\n",
    "    stream=True\n",
    ")\n",
    "for chunck in stream:\n",
    "    print(chunck.choices[0].delta.content, end='', flush=True)"
   ]
  },
  {
   "cell_type": "markdown",
   "metadata": {},
   "source": [
    "## Transcrição de áudios com Groq"
   ]
  },
  {
   "cell_type": "code",
   "execution_count": 9,
   "metadata": {},
   "outputs": [
    {
     "name": "stdout",
     "output_type": "stream",
     "text": [
      " Seja muito bem-vindo ou bem-vinda ao nosso curso completo de Python aqui da Asimov Academy. Eu e minha equipe ficamos muito felizes que vocês tenham escolhido iniciar no mundo da programação, especificamente com a linguagem Python aqui com a gente. Pode ter certeza que a gente colocou muito carinho e muita dedicação para construir esse material. Além dos conhecimentos técnicos que a gente vai apresentar sobre a linguagem e programação em si, Eu também coloquei grande parte da minha experiência e minha vivência para compartilhar com vocês ao longo desse treinamento Para quem não me conhece ainda, meu nome é Rodrigo Soares Tadeval e eu não sou programador de origem Na verdade, eu me formei como engenheiro e utilizei a programação dentro da minha carreira no mercado financeiro como analista de dados E essa é a grande mágica da programação Vocês não precisam utilizar ela única e exclusivamente para desenvolver software Na verdade, ela pode ser usada para o que vocês quiserem no dia a dia de vocês Muitas vezes como habilidade secundária Ela é muito mais ampla e muito mais poderosa do que isso Programação é, sem sombra de dúvidas, a habilidade do futuro Tem gente que já compara e diz que a programação é o novo inglês Ou seja, até anos atrás era necessário que a gente tivesse inglês Pra poder entrar no mercado de trabalho Hoje, com certeza, além do inglês, a gente tem que saber programar\n"
     ]
    }
   ],
   "source": [
    "from groq import Groq\n",
    "\n",
    "client = Groq()\n",
    "\n",
    "arquivo = 'arquivos/audio_asimov.mp3'\n",
    "\n",
    "with open(arquivo, 'rb') as audio:\n",
    "    transcricao = client.audio.transcriptions.create(\n",
    "        file=(arquivo, audio.read()),\n",
    "        model='whisper-large-v3',\n",
    "        response_format='json',\n",
    "        language='pt',\n",
    "        prompt='Este é um curso da Asimov Academy'\n",
    "    )\n",
    "    print(transcricao.text)"
   ]
  },
  {
   "cell_type": "code",
   "execution_count": null,
   "metadata": {},
   "outputs": [],
   "source": []
  }
 ],
 "metadata": {
  "kernelspec": {
   "display_name": ".venv",
   "language": "python",
   "name": "python3"
  },
  "language_info": {
   "codemirror_mode": {
    "name": "ipython",
    "version": 3
   },
   "file_extension": ".py",
   "mimetype": "text/x-python",
   "name": "python",
   "nbconvert_exporter": "python",
   "pygments_lexer": "ipython3",
   "version": "3.11.4"
  }
 },
 "nbformat": 4,
 "nbformat_minor": 2
}
