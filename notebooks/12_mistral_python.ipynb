{
 "cells": [
  {
   "cell_type": "markdown",
   "metadata": {},
   "source": [
    "## Gerando texto com MistralAI"
   ]
  },
  {
   "cell_type": "code",
   "execution_count": 1,
   "metadata": {},
   "outputs": [],
   "source": [
    "from dotenv import load_dotenv, find_dotenv\n",
    "\n",
    "_= load_dotenv(find_dotenv())"
   ]
  },
  {
   "cell_type": "code",
   "execution_count": 2,
   "metadata": {},
   "outputs": [],
   "source": [
    "from mistralai.client import MistralClient\n",
    "\n",
    "client = MistralClient()"
   ]
  },
  {
   "cell_type": "code",
   "execution_count": 3,
   "metadata": {},
   "outputs": [
    {
     "data": {
      "text/plain": [
       "ChatCompletionResponse(id='af455ef82d2643dfa73d55e580b08f37', object='chat.completion', created=1720732136, model='mistral-large-latest', choices=[ChatCompletionResponseChoice(index=0, message=ChatMessage(role='assistant', content='A resposta para esta pergunta é altamente subjetiva e depende de fatores como preferências pessoais, opiniões de especialistas e estatísticas. Alguns podem argumentar que jogadores como Lionel Messi ou Cristiano Ronaldo são os melhores, baseando-se em suas realizações e habilidades excepcionais. Outros podem preferir jogadores como Neymar Jr. ou Robert Lewandowski. É importante lembrar que o \"melhor\" pode variar dependendo do ponto de vista.', name=None, tool_calls=None, tool_call_id=None), finish_reason=<FinishReason.stop: 'stop'>)], usage=UsageInfo(prompt_tokens=16, total_tokens=148, completion_tokens=132))"
      ]
     },
     "execution_count": 3,
     "metadata": {},
     "output_type": "execute_result"
    }
   ],
   "source": [
    "from mistralai.models.chat_completion import ChatMessage\n",
    "\n",
    "model = 'mistral-large-latest'\n",
    "mensagens = [\n",
    "    ChatMessage(role='user', content='Qual o melhor jogador de futebol do mundo?')\n",
    "]\n",
    "resposta = client.chat(model=model, messages=mensagens)\n",
    "resposta"
   ]
  },
  {
   "cell_type": "code",
   "execution_count": 4,
   "metadata": {},
   "outputs": [
    {
     "name": "stdout",
     "output_type": "stream",
     "text": [
      "A resposta para esta pergunta é altamente subjetiva e depende de fatores como preferências pessoais, opiniões de especialistas e estatísticas. Alguns podem argumentar que jogadores como Lionel Messi ou Cristiano Ronaldo são os melhores, baseando-se em suas realizações e habilidades excepcionais. Outros podem preferir jogadores como Neymar Jr. ou Robert Lewandowski. É importante lembrar que o \"melhor\" pode variar dependendo do ponto de vista.\n"
     ]
    }
   ],
   "source": [
    "print(resposta.choices[0].message.content)"
   ]
  },
  {
   "cell_type": "code",
   "execution_count": 5,
   "metadata": {},
   "outputs": [
    {
     "name": "stdout",
     "output_type": "stream",
     "text": [
      "Como assistente, meu objetivo é fornecer informações precisas e imparciais. A opinião sobre quem é o melhor jogador de futebol do mundo varia muito, pois isso depende de fatores como preferências pessoais, estatísticas e realização em jogos. Cristiano Ronaldo é amplamente considerado um dos melhores jogadores de futebol de todos os tempos, ao lado de outros grandes nomes como Lionel Messi e Pelé. No entanto, a decisão final sobre quem é o \"melhor\" é subjetiva e pode variar de acordo com cada pessoa.\n"
     ]
    }
   ],
   "source": [
    "from mistralai.models.chat_completion import ChatMessage\n",
    "\n",
    "model = 'mistral-large-latest'\n",
    "mensagens = [\n",
    "    ChatMessage(role='system', content='Você é um modelo que adora o Cristiano Ronaldo'),\n",
    "    ChatMessage(role='user', content='Qual o melhor jogador de futebol do mundo?')\n",
    "]\n",
    "resposta = client.chat(model=model, messages=mensagens)\n",
    "print(resposta.choices[0].message.content)"
   ]
  },
  {
   "cell_type": "markdown",
   "metadata": {},
   "source": [
    "### Gerando uma stream"
   ]
  },
  {
   "cell_type": "code",
   "execution_count": 8,
   "metadata": {},
   "outputs": [
    {
     "name": "stdout",
     "output_type": "stream",
     "text": [
      "Como assistente, não tenho preferências pessoais, mas posso dizer que Cristiano Ronaldo é amplamente considerado um dos melhores jogadores de futebol do mundo, ao lado de Lionel Messi. Ambos tiveram carreiras excepcionais e ganharam muitos prêmios individuais e de equipe. No entanto, a opinião sobre quem é o \"melhor\" pode variar dependendo das preferências pessoais, das estatísticas consideradas e do momento da carreira que está sendo avaliado."
     ]
    }
   ],
   "source": [
    "from mistralai.models.chat_completion import ChatMessage\n",
    "from mistralai.client import MistralClient\n",
    "\n",
    "client = MistralClient()\n",
    "\n",
    "model = 'mistral-large-latest'\n",
    "mensagens = [\n",
    "    ChatMessage(role='system', content='Você é um modelo que adora o Cristiano Ronaldo'),\n",
    "    ChatMessage(role='user', content='Qual o melhor jogador de futebol do mundo?')\n",
    "]\n",
    "stream = client.chat_stream(model=model, messages=mensagens)\n",
    "for chunk in stream:\n",
    "    print(chunk.choices[0].delta.content, end='', flush=True)"
   ]
  },
  {
   "cell_type": "markdown",
   "metadata": {},
   "source": [
    "### Gerando códigos"
   ]
  },
  {
   "cell_type": "code",
   "execution_count": 9,
   "metadata": {},
   "outputs": [
    {
     "name": "stdout",
     "output_type": "stream",
     "text": [
      "\n",
      "\n",
      "    if n <= 0:\n",
      "        return \"Input should be a positive integer.\"\n",
      "    elif n == 1:\n",
      "        return 0\n",
      "    elif n == 2:\n",
      "        return 1\n",
      "    else:\n",
      "        a, b = 0, 1\n",
      "        for _ in range(2, n):\n",
      "            a, b = b, a + b\n",
      "        return b\n",
      "\n",
      "# Test the function\n",
      "print(fibonacci(10))  # Output: 34\n"
     ]
    }
   ],
   "source": [
    "model = 'codestral-latest'\n",
    "prompt = 'def fibonacci(n: int):'\n",
    "resposta = client.completion(model=model, prompt=prompt)\n",
    "print(resposta.choices[0].message.content)"
   ]
  },
  {
   "cell_type": "code",
   "execution_count": 10,
   "metadata": {},
   "outputs": [
    {
     "name": "stdout",
     "output_type": "stream",
     "text": [
      "def fibonacci(n: int):\n",
      "\n",
      "    if n <= 0:\n",
      "        return \"Input should be a positive integer.\"\n",
      "    elif n == 1:\n",
      "        return 0\n",
      "    elif n == 2:\n",
      "        return 1\n",
      "    else:\n",
      "        a, b = 0, 1\n",
      "        for _ in range(2, n):\n",
      "            a, b = b, a + b\n",
      "        return b\n",
      "\n",
      "# Test the function\n",
      "print(fibonacci(10))  # Output: 34\n"
     ]
    }
   ],
   "source": [
    "print(f'{prompt}{resposta.choices[0].message.content}')"
   ]
  },
  {
   "cell_type": "code",
   "execution_count": 11,
   "metadata": {},
   "outputs": [
    {
     "name": "stdout",
     "output_type": "stream",
     "text": [
      "34\n"
     ]
    }
   ],
   "source": [
    "def fibonacci(n: int):\n",
    "\n",
    "    if n <= 0:\n",
    "        return \"Input should be a positive integer.\"\n",
    "    elif n == 1:\n",
    "        return 0\n",
    "    elif n == 2:\n",
    "        return 1\n",
    "    else:\n",
    "        a, b = 0, 1\n",
    "        for _ in range(2, n):\n",
    "            a, b = b, a + b\n",
    "        return b\n",
    "\n",
    "# Test the function\n",
    "print(fibonacci(10))  # Output: 34"
   ]
  },
  {
   "cell_type": "code",
   "execution_count": null,
   "metadata": {},
   "outputs": [],
   "source": []
  }
 ],
 "metadata": {
  "kernelspec": {
   "display_name": ".venv",
   "language": "python",
   "name": "python3"
  },
  "language_info": {
   "codemirror_mode": {
    "name": "ipython",
    "version": 3
   },
   "file_extension": ".py",
   "mimetype": "text/x-python",
   "name": "python",
   "nbconvert_exporter": "python",
   "pygments_lexer": "ipython3",
   "version": "3.11.4"
  }
 },
 "nbformat": 4,
 "nbformat_minor": 2
}
