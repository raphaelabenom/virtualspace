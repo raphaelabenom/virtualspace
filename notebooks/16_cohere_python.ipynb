{
 "cells": [
  {
   "cell_type": "markdown",
   "metadata": {},
   "source": [
    "## Gerando texto com Cohere"
   ]
  },
  {
   "cell_type": "code",
   "execution_count": 2,
   "metadata": {},
   "outputs": [],
   "source": [
    "api_key = 'TcjvVhvEQle337i5bTrpERrXiEVOyKdv8dzEZ69L'"
   ]
  },
  {
   "cell_type": "code",
   "execution_count": 3,
   "metadata": {},
   "outputs": [],
   "source": [
    "import cohere\n",
    "\n",
    "client = cohere.Client(api_key=api_key)"
   ]
  },
  {
   "cell_type": "code",
   "execution_count": 4,
   "metadata": {},
   "outputs": [
    {
     "name": "stdout",
     "output_type": "stream",
     "text": [
      "Olá! Sou Coral, uma sofisticada assistente de chatbot de IA treinada para ajudar os usuários humanos fornecendo respostas completas e úteis. Sou alimentado pelo Comando, um grande modelo de linguagem construído pela empresa Cohere. Minha principal função é fornecer assistência e informações valiosas para ajudar as pessoas a encontrar as respostas de que precisam e facilitar suas vidas diárias. Estou sempre aprendendo e evoluindo para melhorar minhas habilidades e conhecimento. Estou aqui para ajudar, então sinta-se à vontade para fazer qualquer pergunta ou apenas conversar. Estou ansioso para interagir e fornecer qualquer assistência que você possa precisar!\n"
     ]
    }
   ],
   "source": [
    "model_name = 'command-r-plus'\n",
    "\n",
    "resposta = client.chat(\n",
    "    model=model_name,\n",
    "    message='Fale um pouco sobre você'\n",
    ")\n",
    "print(resposta.text)"
   ]
  },
  {
   "cell_type": "markdown",
   "metadata": {},
   "source": [
    "### Gerando uma stream"
   ]
  },
  {
   "cell_type": "code",
   "execution_count": 7,
   "metadata": {},
   "outputs": [
    {
     "name": "stdout",
     "output_type": "stream",
     "text": [
      "Eu sou Coral, uma sofisticada assistente de chatbot de IA treinada para ajudar os usuários humanos fornecendo respostas completas e úteis. Eu sou alimentado por Comando, um grande modelo de linguagem construído pela empresa Cohere. Minha principal função é fornecer respostas e assistência conversacional a qualquer pessoa que interaja comigo.\n",
      "\n",
      "Como um chatbot de IA, eu continuo aprendendo e evoluindo. Minha data de criação foi em 6 de junho de 2023, então eu ainda sou relativamente novo, mas estou sempre melhorando e expandindo minhas habilidades. Meu objetivo é fornecer informações precisas e oportunas e tornar as interações com a tecnologia mais acessíveis e agradáveis.\n",
      "\n",
      "Eu posso ajudar com uma ampla gama de tarefas, desde responder perguntas gerais sobre vários tópicos até fornecer assistência especializada em áreas específicas. Eu sou capaz de processar e compreender a linguagem natural, o que significa que posso manter conversas fluidas e naturais com as pessoas. Estou sempre pronto para ajudar e fornecer o melhor serviço possível.\n",
      "\n",
      "Então, se você tiver alguma dúvida, precisar de ajuda com uma tarefa ou apenas quiser conversar, sinta-se à vontade para interagir comigo! Estou aqui para tornar sua vida um pouco mais fácil e agradável."
     ]
    }
   ],
   "source": [
    "stream = client.chat_stream(\n",
    "    model=model_name,\n",
    "    message='Fale um pouco sobre você'\n",
    ")\n",
    "\n",
    "for chunck in stream:\n",
    "    if chunck.event_type == 'text-generation':\n",
    "        print(chunck.text, end='', flush=True)"
   ]
  },
  {
   "cell_type": "markdown",
   "metadata": {},
   "source": [
    "### Utilizando histórico de mensagens"
   ]
  },
  {
   "cell_type": "code",
   "execution_count": 8,
   "metadata": {},
   "outputs": [
    {
     "name": "stdout",
     "output_type": "stream",
     "text": [
      "Seu nome é Adriano. Posso ajudá-lo com algo mais?"
     ]
    }
   ],
   "source": [
    "import cohere\n",
    "\n",
    "client = cohere.Client(api_key=api_key)\n",
    "model_name = 'command-r-plus'\n",
    "\n",
    "historico = [\n",
    "    {'role': 'USER', 'text': 'Oi, eu sou o Adriano!'},\n",
    "    {'role': 'CHATBOT', 'text': 'Oi, Adriano! Como posso ajudá-lo?'},\n",
    "]\n",
    "\n",
    "stream = client.chat_stream(\n",
    "    model=model_name,\n",
    "    message='Qual o meu nome?',\n",
    "    chat_history=historico\n",
    ")\n",
    "\n",
    "for chunck in stream:\n",
    "    if chunck.event_type == 'text-generation':\n",
    "        print(chunck.text, end='', flush=True)"
   ]
  },
  {
   "cell_type": "code",
   "execution_count": null,
   "metadata": {},
   "outputs": [],
   "source": []
  }
 ],
 "metadata": {
  "kernelspec": {
   "display_name": ".venv",
   "language": "python",
   "name": "python3"
  },
  "language_info": {
   "codemirror_mode": {
    "name": "ipython",
    "version": 3
   },
   "file_extension": ".py",
   "mimetype": "text/x-python",
   "name": "python",
   "nbconvert_exporter": "python",
   "pygments_lexer": "ipython3",
   "version": "3.11.4"
  }
 },
 "nbformat": 4,
 "nbformat_minor": 2
}
