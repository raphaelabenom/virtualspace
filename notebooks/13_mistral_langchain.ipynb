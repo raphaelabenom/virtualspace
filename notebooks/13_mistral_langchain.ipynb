{
 "cells": [
  {
   "cell_type": "markdown",
   "metadata": {},
   "source": [
    "## Gerando texto com MistralAI"
   ]
  },
  {
   "cell_type": "code",
   "execution_count": 7,
   "metadata": {},
   "outputs": [],
   "source": [
    "from dotenv import load_dotenv, find_dotenv\n",
    "\n",
    "_= load_dotenv(find_dotenv())"
   ]
  },
  {
   "cell_type": "code",
   "execution_count": 8,
   "metadata": {},
   "outputs": [],
   "source": [
    "from langchain_mistralai import ChatMistralAI\n",
    "\n",
    "chat = ChatMistralAI()\n"
   ]
  },
  {
   "cell_type": "code",
   "execution_count": 9,
   "metadata": {},
   "outputs": [
    {
     "name": "stdout",
     "output_type": "stream",
     "text": [
      "Olá! Sou uma IA desenvolvida pela equipe de engenheiros de conversacional AI do Phindstar. Ela está em constante aprendizagem e melhoria para fornecer a melhor experiência possível aos usuários. Caso tenha alguma dúvida ou necessite de assistência, estou aqui para ajudar. Em que posso lhe ser útil hoje?\n"
     ]
    }
   ],
   "source": [
    "resposta = chat.invoke('Olá, quem criou você?')\n",
    "print(resposta.content)"
   ]
  },
  {
   "cell_type": "code",
   "execution_count": 10,
   "metadata": {},
   "outputs": [
    {
     "name": "stdout",
     "output_type": "stream",
     "text": [
      "J'aime coder\n",
      "\n",
      "This is a simple and straightforward sentence to translate. \"I love\" translates to \"J'aime\" and \"coding\" translates to \"coder\" in French. Therefore, \"I love coding\" translates to \"J'aime coder\".\n"
     ]
    }
   ],
   "source": [
    "mensagens = [\n",
    "    ('system','Você é especialista em traduzir do inglês para o francês. Traduza o seguinte:'),\n",
    "    ('user', 'I love coding')\n",
    "]\n",
    "\n",
    "resposta = chat.invoke(mensagens)\n",
    "print(resposta.content)"
   ]
  },
  {
   "cell_type": "code",
   "execution_count": 13,
   "metadata": {},
   "outputs": [
    {
     "name": "stdout",
     "output_type": "stream",
     "text": [
      "Claro, eu seria feliz em criar uma história sobre pinguins para você!\n",
      "\n",
      "Há muito tempo, em um reino gelado no meio do oceano Antártico, vivia uma colônia de pinguins chamada Pingvinópolis. Todos os pinguins de Pingvinópolis eram felizes e se divertiam muito juntos, mas havia um problema: eles nunca conseguiram se lembrar de quem era o rei dos pinguins.\n",
      "\n",
      "Havia boatos de que o rei era um pinguim muito sábio e bonito, mas ninguém sabia ao certo. Então, os pinguins decidiram que era hora de encontrar o verdadeiro rei de Pingvinópolis.\n",
      "\n",
      "Eles escolheram três pinguins para se aventurarem no mundo gelado e encontrar o rei: Pingo, o corajoso; Pongu, o inteligente; e Pinga, a bonita. Eles partiram em sua jornada, andando por dias e dias sobre o gelo, até que finalmente encontraram uma gruta misteriosa.\n",
      "\n",
      "Dentro da gruta, havia um trono de gelo e, sentado nele, um pinguim brilhante e majestoso. Era o Rei Pinguim! Ele era tão sábio que podia controlar o tempo e fazer o gelo derreter com apenas um pensamento.\n",
      "\n",
      "O Rei Pinguim disse aos três pinguins que eles seriam os guardiões de Pingvinópolis e que teriam que proteger a colônia dos perigos que pairavam sobre eles. Eles concordaram e voltaram para casa, contando a todos sobre sua jornada e o maravilhoso Rei Pinguim.\n",
      "\n",
      "Desde então, Pingo, Pongu e Pinga se tornaram os guardiões de Pingvinópolis e protegeram a colônia com sucesso. E todos os pinguins viveram felizes e contentes, sabendo que o Rei Pinguim estava sempre olhando por eles.\n",
      "\n",
      "E foi assim que a história de Pingvinópolis e do Rei Pinguim se espalhou pelas geladas águas do oceano Antártico, inspirando todos os pinguins a se unirem e protegerem sua colônia.\n"
     ]
    }
   ],
   "source": [
    "from langchain_core.prompts import ChatPromptTemplate\n",
    "\n",
    "template = ChatPromptTemplate.from_messages([\n",
    "    ('system', 'Você é um grande contador de histórias emportugues'),\n",
    "    ('user', 'Crie uma história sobre: {hist}')\n",
    "])\n",
    "\n",
    "chain = template | chat\n",
    "resposta = chain.invoke({'hist': 'pinguins'})\n",
    "print(resposta.content)"
   ]
  },
  {
   "cell_type": "markdown",
   "metadata": {},
   "source": [
    "### Gerando uma stream"
   ]
  },
  {
   "cell_type": "code",
   "execution_count": 14,
   "metadata": {},
   "outputs": [
    {
     "name": "stdout",
     "output_type": "stream",
     "text": [
      "Claro, gosto muito de contar histórias! Vou contar uma história sobre pinguins.\n",
      "\n",
      "Há muito tempo, em um reino gelado no meio do oceano Antártico, vivia uma pequena colônia de pinguins. Eles viviam felizes e em harmonia, deslizando pelas geleiras e nadando nos mares gelados.\n",
      "\n",
      "Entre eles, havia um pinguim chamado Pingo que era muito diferente dos outros. Enquanto os outros pinguins eram brancos e negros, Pingo tinha penas amarelas e verdes. Isso o fazia se sentir solitário e diferente, e muitas vezes ele se isolava dos outros pinguins.\n",
      "\n",
      "Mas Pingo era um pinguim muito corajoso e determinado. Ele queria provar aos outros pinguins que, apesar de ser diferente, ele também poderia ser forte e capaz. Então, um dia, ele decidiu partir em uma grande jornada para provar seu valor.\n",
      "\n",
      "Pingo viajou por todo o oceano Antártico, enfrentando tempestades e correntes marinhas fortes. Ele se aventurou em ilhas desconhecidas e mergulhou em fundos marinhos profundos em busca de alimento.\n",
      "\n",
      "Durante sua jornada, Pingo conheceu outros animais marinhos e aprendeu sobre suas vidas e costumes. Ele se tornou amigo de uma baleia-jubarte chamada Baleia e de um leão-marinho chamado Leão. Eles o ajudaram em sua jornada e o ensinaram a se adaptar a diferentes ambientes marinhos.\n",
      "\n",
      "Finalmente, Pingo retornou à sua colônia de pinguins, mais forte e sábio do que antes. Ele compartilhou suas histórias e ensinou aos outros pinguins sobre os diferentes animais marinhos que conhecera em sua jornada.\n",
      "\n",
      "Desde então, Pingo foi respeitado e admirado por todos os pinguins da colônia. Eles aprenderam que ser diferente não significa ser fraco ou incapaz, e que cada um tem suas próprias habilidades e talentos únicos.\n",
      "\n",
      "E a história de Pingo se espalhou por todo o oceano Antártico, inspirando outros pinguins a serem corajosos e a seguir seus sonhos, mesmo que sejam diferentes dos outros.\n",
      "\n",
      "E foi assim que o pinguim Pingo se tornou uma lenda entre os pinguins do sul, lembrado por sua coragem, sabedoria e espírito aventureiro."
     ]
    }
   ],
   "source": [
    "from langchain_core.prompts import ChatPromptTemplate\n",
    "\n",
    "template = ChatPromptTemplate.from_messages([\n",
    "    ('system', 'Você é um grande contador de histórias emportugues'),\n",
    "    ('user', 'Crie uma história sobre: {hist}')\n",
    "])\n",
    "\n",
    "chain = template | chat\n",
    "stream = chain.stream({'hist': 'pinguins'})\n",
    "for chunk in stream:\n",
    "    print(chunk.content, end='', flush=True)"
   ]
  },
  {
   "cell_type": "code",
   "execution_count": null,
   "metadata": {},
   "outputs": [],
   "source": []
  }
 ],
 "metadata": {
  "kernelspec": {
   "display_name": ".venv",
   "language": "python",
   "name": "python3"
  },
  "language_info": {
   "codemirror_mode": {
    "name": "ipython",
    "version": 3
   },
   "file_extension": ".py",
   "mimetype": "text/x-python",
   "name": "python",
   "nbconvert_exporter": "python",
   "pygments_lexer": "ipython3",
   "version": "3.11.4"
  }
 },
 "nbformat": 4,
 "nbformat_minor": 2
}
