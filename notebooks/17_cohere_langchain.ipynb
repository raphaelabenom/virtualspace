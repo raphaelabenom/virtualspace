{
 "cells": [
  {
   "cell_type": "markdown",
   "metadata": {},
   "source": [
    "## Gerando texto com Cohere"
   ]
  },
  {
   "cell_type": "code",
   "execution_count": 1,
   "metadata": {},
   "outputs": [],
   "source": [
    "from dotenv import load_dotenv, find_dotenv\n",
    "\n",
    "_ = load_dotenv(find_dotenv())"
   ]
  },
  {
   "cell_type": "code",
   "execution_count": 3,
   "metadata": {},
   "outputs": [],
   "source": [
    "from langchain_cohere import ChatCohere\n",
    "\n",
    "chat = ChatCohere(model='command-r-plus', temperature=1)"
   ]
  },
  {
   "cell_type": "code",
   "execution_count": 4,
   "metadata": {},
   "outputs": [
    {
     "name": "stdout",
     "output_type": "stream",
     "text": [
      "Olá! Tudo bem, e com você? Como posso ajudá-lo hoje?\n"
     ]
    }
   ],
   "source": [
    "resposta = chat.invoke('Olá, como vai?')\n",
    "print(resposta.content)"
   ]
  },
  {
   "cell_type": "code",
   "execution_count": 5,
   "metadata": {},
   "outputs": [
    {
     "name": "stdout",
     "output_type": "stream",
     "text": [
      "Código: mágico! Abriu portas para novas dimensões.\n"
     ]
    }
   ],
   "source": [
    "from langchain_core.prompts import ChatPromptTemplate\n",
    "\n",
    "template = ChatPromptTemplate.from_messages([\n",
    "    ('system', 'Você é um contador de histórias'),\n",
    "    ('user', 'Conte uma historia sobre {conteudo} com até {n_palavras} palavras')\n",
    "])\n",
    "chain = template | chat\n",
    "resposta = chain.invoke({'conteudo': 'programação', 'n_palavras': 10})\n",
    "print(resposta.content)"
   ]
  },
  {
   "cell_type": "code",
   "execution_count": 6,
   "metadata": {},
   "outputs": [
    {
     "name": "stdout",
     "output_type": "stream",
     "text": [
      "Era uma vez um programador chamado João, que amava criar códigos. Um dia, ele enfrentou um desafio e, com seu talento, escreveu um código perfeito.\n"
     ]
    }
   ],
   "source": [
    "resposta = chain.invoke({'conteudo': 'programação', 'n_palavras': 30})\n",
    "print(resposta.content)"
   ]
  },
  {
   "cell_type": "markdown",
   "metadata": {},
   "source": [
    "### Gerando uma stream"
   ]
  },
  {
   "cell_type": "code",
   "execution_count": 7,
   "metadata": {},
   "outputs": [
    {
     "name": "stdout",
     "output_type": "stream",
     "text": [
      "Era uma vez um jovem chamado João, que tinha uma paixão por tecnologia e sonhava em se tornar um programador. Ele passava horas na frente do computador, explorando diferentes linguagens de programação e criando pequenos projetos para praticar suas habilidades.\n",
      "\n",
      "Um dia, João decidiu participar de uma maratona de programação, onde os participantes tinham que resolver uma série de problemas usando suas habilidades de codificação. Ele estava nervoso, mas determinado a mostrar suas habilidades.\n",
      "\n",
      "A competição começou e João mergulhou no primeiro problema. Ele analisou os requisitos e começou a codificar uma solução. À medida que progredia, ele se deparou com desafios, mas sua determinação o manteve firme. Ele procurou erros em seu código, refinou seus algoritmos e, finalmente, submeteu sua solução.\n",
      "\n",
      "Problema após problema, João mergulhou mais fundo no mundo da programação. Ele colaborou com outros participantes, trocando ideias e aprendendo com suas diferentes perspectivas. A atmosfera era elétrica, com mentes brilhantes unidas por seu amor compartilhado pela codificação.\n",
      "\n",
      "À medida que a maratona avançava, João se sentiu cada vez mais confiante. Ele encontrou soluções elegantes para problemas complexos e sentiu uma sensação de realização ao ver seu código funcionando perfeitamente.\n",
      "\n",
      "Finalmente, a competição chegou ao fim e os resultados foram anunciados. O coração de João batia forte quando seu nome foi chamado como um dos vencedores. Ele havia conquistado o primeiro lugar e recebeu o reconhecimento de seus colegas programadores.\n",
      "\n",
      "A jornada de João na maratona de programação"
     ]
    }
   ],
   "source": [
    "stream = chain.stream({'conteudo': 'programação', 'n_palavras': 300})\n",
    "for chunk in stream:\n",
    "    print(chunk.content, end='', flush=True)"
   ]
  },
  {
   "cell_type": "code",
   "execution_count": null,
   "metadata": {},
   "outputs": [],
   "source": []
  }
 ],
 "metadata": {
  "kernelspec": {
   "display_name": ".venv",
   "language": "python",
   "name": "python3"
  },
  "language_info": {
   "codemirror_mode": {
    "name": "ipython",
    "version": 3
   },
   "file_extension": ".py",
   "mimetype": "text/x-python",
   "name": "python",
   "nbconvert_exporter": "python",
   "pygments_lexer": "ipython3",
   "version": "3.11.4"
  }
 },
 "nbformat": 4,
 "nbformat_minor": 2
}
