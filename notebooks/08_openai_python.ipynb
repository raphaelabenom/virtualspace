{
 "cells": [
  {
   "cell_type": "markdown",
   "metadata": {},
   "source": [
    "## Gerando texto com OpenAI"
   ]
  },
  {
   "cell_type": "code",
   "execution_count": 1,
   "metadata": {},
   "outputs": [
    {
     "data": {
      "text/plain": [
       "True"
      ]
     },
     "execution_count": 1,
     "metadata": {},
     "output_type": "execute_result"
    }
   ],
   "source": [
    "from dotenv import load_dotenv, find_dotenv\n",
    "\n",
    "load_dotenv(find_dotenv())"
   ]
  },
  {
   "cell_type": "code",
   "execution_count": 2,
   "metadata": {},
   "outputs": [],
   "source": [
    "import openai\n",
    "\n",
    "client = openai.OpenAI()"
   ]
  },
  {
   "cell_type": "code",
   "execution_count": 3,
   "metadata": {},
   "outputs": [
    {
     "data": {
      "text/plain": [
       "ChatCompletion(id='chatcmpl-9jtTyENb71WyPn1hTWhd5NMqF33R8', choices=[Choice(finish_reason='stop', index=0, logprobs=None, message=ChatCompletionMessage(content='Uma maçã é uma fruta comestível, geralmente redonda ou em forma de coração, com uma casca fina e suculenta, e uma polpa branca ou avermelhada. É uma das frutas mais populares e consumidas em todo o mundo, sendo rica em fibras, vitaminas e antioxidantes. Existem muitas variedades de maçãs, com diferentes cores, sabores e texturas.', role='assistant', function_call=None, tool_calls=None))], created=1720725062, model='gpt-3.5-turbo-0125', object='chat.completion', service_tier=None, system_fingerprint=None, usage=CompletionUsage(completion_tokens=98, prompt_tokens=15, total_tokens=113))"
      ]
     },
     "execution_count": 3,
     "metadata": {},
     "output_type": "execute_result"
    }
   ],
   "source": [
    "mensagens = [{'role': 'user', 'content': 'O que é uma maçã?'}]\n",
    "resposta = client.chat.completions.create(\n",
    "    messages=mensagens,\n",
    "    model='gpt-3.5-turbo',\n",
    "    max_tokens=500,\n",
    "    temperature=0\n",
    ")\n",
    "resposta"
   ]
  },
  {
   "cell_type": "code",
   "execution_count": 4,
   "metadata": {},
   "outputs": [
    {
     "name": "stdout",
     "output_type": "stream",
     "text": [
      "Uma maçã é uma fruta comestível, geralmente redonda ou em forma de coração, com uma casca fina e suculenta, e uma polpa branca ou avermelhada. É uma das frutas mais populares e consumidas em todo o mundo, sendo rica em fibras, vitaminas e antioxidantes. Existem muitas variedades de maçãs, com diferentes cores, sabores e texturas.\n"
     ]
    }
   ],
   "source": [
    "print(resposta.choices[0].message.content)"
   ]
  },
  {
   "cell_type": "markdown",
   "metadata": {},
   "source": [
    "### Gerando uma stream"
   ]
  },
  {
   "cell_type": "code",
   "execution_count": 7,
   "metadata": {},
   "outputs": [
    {
     "name": "stdout",
     "output_type": "stream",
     "text": [
      "Uma maçã é uma fruta redonda, geralmente de cor vermelha, verde ou amarela, com polpa branca e suculenta. É uma das frutas mais populares e consumidas em todo o mundo, sendo conhecida por seu sabor doce e refrescante. A maçã é rica em fibras, vitaminas e minerais, sendo considerada uma fruta muito saudável. Ela pode ser consumida in natura, em sucos, saladas de frutas, sobremesas e diversas outras preparações culinárias."
     ]
    }
   ],
   "source": [
    "mensagens = [{'role': 'user', 'content': 'O que é uma maçã?'}]\n",
    "stream = client.chat.completions.create(\n",
    "    messages=mensagens,\n",
    "    model='gpt-3.5-turbo',\n",
    "    max_tokens=500,\n",
    "    temperature=0,\n",
    "    stream=True\n",
    ")\n",
    "for chunck in stream:\n",
    "    chunck_text = chunck.choices[0].delta.content\n",
    "    if chunck_text:\n",
    "        print(chunck_text, end='', flush=True)"
   ]
  },
  {
   "cell_type": "markdown",
   "metadata": {},
   "source": [
    "### Interpretando imagens"
   ]
  },
  {
   "cell_type": "code",
   "execution_count": 8,
   "metadata": {},
   "outputs": [
    {
     "name": "stdout",
     "output_type": "stream",
     "text": [
      "A imagem mostra uma paisagem natural com um caminho de madeira que se estende pelo meio de um campo verde. O caminho é cercado por grama alta e vegetação exuberante. Ao fundo, há árvores e arbustos que se estendem até o horizonte. O céu está claro, com algumas nuvens esparsas, e apresenta um tom azul vibrante, sugerindo um dia ensolarado. A cena transmite uma sensação de tranquilidade e beleza natural."
     ]
    }
   ],
   "source": [
    "url = 'https://upload.wikimedia.org/wikipedia/commons/thumb/d/dd/Gfp-wisconsin-madison-the-nature-boardwalk.jpg/2560px-Gfp-wisconsin-madison-the-nature-boardwalk.jpg'\n",
    "\n",
    "mensagens = [{\n",
    "    'role': 'user', \n",
    "    'content': [\n",
    "        {'type': 'text', 'text': 'Descreva a imagem'},\n",
    "        {'type': 'image_url', 'image_url': {'url': url}}\n",
    "    ]}]\n",
    "stream = client.chat.completions.create(\n",
    "    messages=mensagens,\n",
    "    model='gpt-4o',\n",
    "    max_tokens=500,\n",
    "    temperature=0,\n",
    "    stream=True\n",
    ")\n",
    "for chunck in stream:\n",
    "    chunck_text = chunck.choices[0].delta.content\n",
    "    if chunck_text:\n",
    "        print(chunck_text, end='', flush=True)"
   ]
  },
  {
   "cell_type": "code",
   "execution_count": null,
   "metadata": {},
   "outputs": [],
   "source": []
  }
 ],
 "metadata": {
  "kernelspec": {
   "display_name": ".venv",
   "language": "python",
   "name": "python3"
  },
  "language_info": {
   "codemirror_mode": {
    "name": "ipython",
    "version": 3
   },
   "file_extension": ".py",
   "mimetype": "text/x-python",
   "name": "python",
   "nbconvert_exporter": "python",
   "pygments_lexer": "ipython3",
   "version": "3.11.4"
  }
 },
 "nbformat": 4,
 "nbformat_minor": 2
}
