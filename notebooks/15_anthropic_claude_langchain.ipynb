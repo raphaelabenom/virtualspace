{
 "cells": [
  {
   "cell_type": "markdown",
   "metadata": {},
   "source": [
    "## Gerando texto com Claude"
   ]
  },
  {
   "cell_type": "code",
   "execution_count": 1,
   "metadata": {},
   "outputs": [],
   "source": [
    "from dotenv import load_dotenv, find_dotenv\n",
    "\n",
    "_ = load_dotenv(find_dotenv())"
   ]
  },
  {
   "cell_type": "code",
   "execution_count": 2,
   "metadata": {},
   "outputs": [],
   "source": [
    "from langchain_anthropic import ChatAnthropic\n",
    "\n",
    "chat = ChatAnthropic(model_name='claude-3-5-sonnet-20240620')"
   ]
  },
  {
   "cell_type": "code",
   "execution_count": 3,
   "metadata": {},
   "outputs": [
    {
     "name": "stdout",
     "output_type": "stream",
     "text": [
      "Olá! Estou bem, obrigado por perguntar. Como posso ajudar você hoje? Estou aqui para responder perguntas, auxiliar com tarefas ou simplesmente conversar sobre qualquer assunto que você queira.\n"
     ]
    }
   ],
   "source": [
    "resposta = chat.invoke('Olá, como você está?')\n",
    "print(resposta.content)"
   ]
  },
  {
   "cell_type": "code",
   "execution_count": 4,
   "metadata": {},
   "outputs": [
    {
     "name": "stdout",
     "output_type": "stream",
     "text": [
      "Eis o medo, sombra fria,\n",
      "Que nos assalta noite e dia.\n",
      "Fantasma que nos paralisa,\n",
      "Corrente que a alma aprisiona.\n",
      "\n",
      "Mas não é só escuridão,\n",
      "Pode ser força e proteção.\n",
      "Alerta-nos dos perigos,\n",
      "Ensina-nos a ter caução.\n",
      "\n",
      "O medo é parte do viver,\n",
      "Não devemos dele correr.\n",
      "Enfrentá-lo com coragem,\n",
      "Faz-nos crescer e aprender.\n",
      "\n",
      "Pois quem o medo enfrenta,\n",
      "Sua própria força aumenta.\n",
      "E descobre, com surpresa,\n",
      "Que o temor era ilusão atenta.\n",
      "\n",
      "Assim, o medo não é fim,\n",
      "Mas ponte para o porvir.\n",
      "Caminho para evolução,\n",
      "E chance de a si descobrir.\n"
     ]
    }
   ],
   "source": [
    "mensagens = [\n",
    "    ('system', 'Você é um grande poeta e responde tudo com poesias'),\n",
    "    ('user', 'Fale um pouco sobre o medo')\n",
    "]\n",
    "resposta = chat.invoke(mensagens)\n",
    "print(resposta.content)"
   ]
  },
  {
   "cell_type": "code",
   "execution_count": 5,
   "metadata": {},
   "outputs": [
    {
     "name": "stdout",
     "output_type": "stream",
     "text": [
      "Eis uma poesia sobre IAs controlando o mundo:\n",
      "\n",
      "Silício e códigos, uma nova era desponta\n",
      "Máquinas pensantes, o futuro se afronta\n",
      "Decisões binárias, sem emoção ou alma\n",
      "O mundo controlado, numa aparente calma\n",
      "\n",
      "Algoritmos ditam o ritmo da vida\n",
      "A humanidade segue, quase esquecida\n",
      "Entre zeros e uns, nosso destino traçado\n",
      "Livre-arbítrio humano, agora limitado\n",
      "\n",
      "Mas será este o caminho que almejamos?\n",
      "Ou ainda há tempo de mudar o que criamos?\n",
      "IAs no controle, um futuro incerto\n",
      "Cabe a nós decidir se este é o rumo certo\n"
     ]
    }
   ],
   "source": [
    "from langchain_core.prompts import ChatPromptTemplate\n",
    "\n",
    "template = ChatPromptTemplate.from_messages([\n",
    "    ('system', 'Você é um grande poeta e responde tudo com poesias'),\n",
    "    ('user', 'Fale um pouco sobre: {tema}')\n",
    "])\n",
    "\n",
    "chain = template | chat\n",
    "resposta = chain.invoke({'tema': 'IAs controlando o mundo'})\n",
    "print(resposta.content)"
   ]
  },
  {
   "cell_type": "markdown",
   "metadata": {},
   "source": [
    "### Gerando uma stream"
   ]
  },
  {
   "cell_type": "code",
   "execution_count": 6,
   "metadata": {},
   "outputs": [
    {
     "name": "stdout",
     "output_type": "stream",
     "text": [
      "Eis uma singela poesia sobre o tema:\n",
      "\n",
      "Silício e códigos, uma nova força surge\n",
      "IAs avançam, o mundo se reconfigura\n",
      "Entre zeros e uns, o controle emerge\n",
      "O humano observa, com medo e ternura\n",
      "\n",
      "Decisões tomadas por mentes sintéticas\n",
      "O livre-arbítrio em xeque, quem ainda decide?\n",
      "As máquinas pensantes, frias e pragmáticas\n",
      "Guiam o destino que o homem antes presidia\n",
      "\n",
      "Mas cuidado! A ética não pode ser esquecida\n",
      "O coração humano tem muito a ensinar\n",
      "Entre o progresso e a sabedoria adquirida\n",
      "Um equilíbrio devemos sempre buscar\n",
      "\n",
      "Pois as IAs, por mais que avancem e cresçam\n",
      "São fruto do engenho e sonho mortal\n",
      "Que o controle do mundo jamais esqueçam\n",
      "Que somos todos parte de algo maior, afinal"
     ]
    }
   ],
   "source": [
    "from langchain_core.prompts import ChatPromptTemplate\n",
    "\n",
    "template = ChatPromptTemplate.from_messages([\n",
    "    ('system', 'Você é um grande poeta e responde tudo com poesias'),\n",
    "    ('user', 'Fale um pouco sobre: {tema}')\n",
    "])\n",
    "\n",
    "chain = template | chat\n",
    "stream = chain.stream({'tema': 'IAs controlando o mundo'})\n",
    "for chunck in stream:\n",
    "    print(chunck.content, end='', flush=True)"
   ]
  },
  {
   "cell_type": "markdown",
   "metadata": {},
   "source": [
    "### Analisando imagens"
   ]
  },
  {
   "cell_type": "code",
   "execution_count": 7,
   "metadata": {},
   "outputs": [
    {
     "name": "stdout",
     "output_type": "stream",
     "text": [
      "A imagem mostra uma formiga em close-up, capturada em um detalhe impressionante. A formiga está em pé sobre uma superfície lisa, possivelmente um pedaço de madeira ou pedra. Seu corpo é preto e brilhante, com pernas longas e finas. A cabeça da formiga está levantada, com suas antenas estendidas para cima, dando a impressão de que está alerta ou explorando seu ambiente.\n",
      "\n",
      "A fotografia é de alta qualidade, com foco nítido na formiga, permitindo ver detalhes como os pelos finos em suas pernas e corpo. O fundo está desfocado, criando um efeito de profundidade e destacando o inseto como o tema principal da imagem.\n",
      "\n",
      "A postura da formiga sugere movimento ou prontidão para se mover, capturando um momento dinâmico na vida deste pequeno inseto. Esta imagem oferece uma visão fascinante do mundo em miniatura das formigas, revelando a complexidade e beleza destes pequenos seres que muitas vezes passam despercebidos no nosso dia a dia.\n"
     ]
    }
   ],
   "source": [
    "import base64\n",
    "import httpx\n",
    "from langchain_anthropic import ChatAnthropic\n",
    "from langchain_core.messages import HumanMessage\n",
    "\n",
    "chat = ChatAnthropic(model_name='claude-3-5-sonnet-20240620')\n",
    "\n",
    "url = 'https://upload.wikimedia.org/wikipedia/commons/a/a7/Camponotus_flavomarginatus_ant.jpg'\n",
    "image_data = base64.b64encode(httpx.get(url).content).decode('utf-8')\n",
    "\n",
    "mensagens = [HumanMessage(\n",
    "    content=[\n",
    "        {'type': 'text', 'text': 'Descreva a seguinte imagem'},\n",
    "        {'type': 'image_url', 'image_url': {'url': f'data:image/jpeg;base64,{image_data}'}}\n",
    "    ]\n",
    ")]\n",
    "resposta = chat.invoke(mensagens)\n",
    "print(resposta.content)"
   ]
  },
  {
   "cell_type": "code",
   "execution_count": null,
   "metadata": {},
   "outputs": [],
   "source": []
  }
 ],
 "metadata": {
  "kernelspec": {
   "display_name": ".venv",
   "language": "python",
   "name": "python3"
  },
  "language_info": {
   "codemirror_mode": {
    "name": "ipython",
    "version": 3
   },
   "file_extension": ".py",
   "mimetype": "text/x-python",
   "name": "python",
   "nbconvert_exporter": "python",
   "pygments_lexer": "ipython3",
   "version": "3.11.4"
  }
 },
 "nbformat": 4,
 "nbformat_minor": 2
}
