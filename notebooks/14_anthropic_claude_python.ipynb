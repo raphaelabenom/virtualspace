{
 "cells": [
  {
   "cell_type": "markdown",
   "metadata": {},
   "source": [
    "## Gerando texto com Claude"
   ]
  },
  {
   "cell_type": "code",
   "execution_count": null,
   "metadata": {},
   "outputs": [
    {
     "ename": "ModuleNotFoundError",
     "evalue": "No module named 'anthropic'",
     "output_type": "error",
     "traceback": [
      "\u001b[0;31m---------------------------------------------------------------------------\u001b[0m",
      "\u001b[0;31mModuleNotFoundError\u001b[0m                       Traceback (most recent call last)",
      "Cell \u001b[0;32mIn[1], line 1\u001b[0m\n\u001b[0;32m----> 1\u001b[0m \u001b[38;5;28;01mimport\u001b[39;00m \u001b[38;5;21;01manthropic\u001b[39;00m\n\u001b[1;32m      3\u001b[0m api_key \u001b[38;5;241m=\u001b[39m \u001b[38;5;124m'\u001b[39m\u001b[38;5;124m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\u001b[39m\u001b[38;5;124m'\u001b[39m\n\u001b[1;32m      4\u001b[0m client \u001b[38;5;241m=\u001b[39m anthropic\u001b[38;5;241m.\u001b[39mAnthropic(api_key\u001b[38;5;241m=\u001b[39mapi_key)\n",
      "\u001b[0;31mModuleNotFoundError\u001b[0m: No module named 'anthropic'"
     ]
    }
   ],
   "source": [
    "import anthropic\n",
    "\n",
    "api_key = ''\n",
    "client = anthropic.Anthropic(api_key=api_key)\n"
   ]
  },
  {
   "cell_type": "code",
   "execution_count": 2,
   "metadata": {},
   "outputs": [
    {
     "name": "stdout",
     "output_type": "stream",
     "text": [
      "Message(id='msg_01GdiS28L1CchCzFVaENYvvG', content=[TextBlock(text='Olá! É um prazer conhecê-lo. Como posso ajudar você hoje?', type='text')], model='claude-3-5-sonnet-20240620', role='assistant', stop_reason='end_turn', stop_sequence=None, type='message', usage=Usage(input_tokens=12, output_tokens=25))\n"
     ]
    }
   ],
   "source": [
    "model_name = 'claude-3-5-sonnet-20240620'\n",
    "mensagens = [{'role': 'user', 'content': 'Olá, Claude'}]\n",
    "resposta = client.messages.create(\n",
    "    model=model_name,\n",
    "    max_tokens=1024,\n",
    "    messages=mensagens\n",
    ")\n",
    "print(resposta)\n"
   ]
  },
  {
   "cell_type": "code",
   "execution_count": 3,
   "metadata": {},
   "outputs": [
    {
     "name": "stdout",
     "output_type": "stream",
     "text": [
      "Olá! É um prazer conhecê-lo. Como posso ajudar você hoje?\n"
     ]
    }
   ],
   "source": [
    "print(resposta.content[0].text)"
   ]
  },
  {
   "cell_type": "markdown",
   "metadata": {},
   "source": [
    "### Gerando uma stream"
   ]
  },
  {
   "cell_type": "code",
   "execution_count": 8,
   "metadata": {},
   "outputs": [
    {
     "name": "stdout",
     "output_type": "stream",
     "text": [
      "Olá! É um prazer conhecê-lo. Como posso ajudar você hoje?"
     ]
    }
   ],
   "source": [
    "model_name = 'claude-3-5-sonnet-20240620'\n",
    "mensagens = [{'role': 'user', 'content': 'Olá, Claude'}]\n",
    "\n",
    "with client.messages.stream(\n",
    "    model=model_name,\n",
    "    max_tokens=1024,\n",
    "    messages=mensagens) as stream:\n",
    "    for text in stream:\n",
    "        if text.type == 'content_block_delta':\n",
    "            print(text.delta.text, end='', flush=True)"
   ]
  },
  {
   "cell_type": "markdown",
   "metadata": {},
   "source": [
    "### Analisando imagens"
   ]
  },
  {
   "cell_type": "code",
   "execution_count": 10,
   "metadata": {},
   "outputs": [
    {
     "name": "stdout",
     "output_type": "stream",
     "text": [
      "Esta imagem mostra uma formiga em close-up, capturada com grande detalhe. A formiga está em uma superfície plana, possivelmente madeira ou pedra, e parece estar em movimento. Seu corpo é preto e brilhante, com pernas longas e finas. A cabeça da formiga está levantada, com suas antenas bem visíveis. A fotografia tem uma profundidade de campo rasa, focando nitidamente na formiga enquanto o fundo está desfocado, criando um efeito visual interessante. A imagem realça as características físicas da formiga, como seu exoesqueleto segmentado e a estrutura de suas pernas. É uma fotografia macro impressionante que nos permite ver os detalhes intrincados deste pequeno inseto."
     ]
    }
   ],
   "source": [
    "import base64\n",
    "import httpx\n",
    "\n",
    "\n",
    "url = 'https://upload.wikimedia.org/wikipedia/commons/a/a7/Camponotus_flavomarginatus_ant.jpg'\n",
    "image_data = base64.b64encode(httpx.get(url).content).decode('utf-8')\n",
    "\n",
    "\n",
    "model_name = 'claude-3-5-sonnet-20240620'\n",
    "mensagens = [\n",
    "    {'role': 'user', \n",
    "     'content': [\n",
    "         {'type': 'text', 'text': 'Descreva esta imagem'},\n",
    "         {'type': 'image', 'source': {'type': 'base64', 'media_type': 'image/jpeg', 'data': image_data}}\n",
    "     ]}]\n",
    "\n",
    "with client.messages.stream(\n",
    "    model=model_name,\n",
    "    max_tokens=1024,\n",
    "    messages=mensagens) as stream:\n",
    "    for text in stream:\n",
    "        if text.type == 'content_block_delta':\n",
    "            print(text.delta.text, end='', flush=True)\n"
   ]
  },
  {
   "cell_type": "code",
   "execution_count": null,
   "metadata": {},
   "outputs": [],
   "source": []
  }
 ],
 "metadata": {
  "kernelspec": {
   "display_name": "Python 3",
   "language": "python",
   "name": "python3"
  },
  "language_info": {
   "codemirror_mode": {
    "name": "ipython",
    "version": 3
   },
   "file_extension": ".py",
   "mimetype": "text/x-python",
   "name": "python",
   "nbconvert_exporter": "python",
   "pygments_lexer": "ipython3",
   "version": "3.12.1"
  }
 },
 "nbformat": 4,
 "nbformat_minor": 2
}
